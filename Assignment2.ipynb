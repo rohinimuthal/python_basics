{
 "cells": [
  {
   "cell_type": "markdown",
   "id": "6893cabe",
   "metadata": {},
   "source": [
    "1.What are the two values of the Boolean data type? How do you write them?\n",
    "Values of boolean data types are True and False\n"
   ]
  },
  {
   "cell_type": "markdown",
   "id": "f463a52b",
   "metadata": {},
   "source": [
    "2. What are the three different types of Boolean operators?\n",
    "and , or and not are three boolean operators "
   ]
  },
  {
   "cell_type": "raw",
   "id": "7ca507ca",
   "metadata": {},
   "source": [
    "3. Make a list of each Boolean operators truth tables (i.e. every possible combination of Boolean\n",
    "values for the operator and what it evaluate )\n",
    "1. and operator:\n",
    "True and True --> True\n",
    "True and False -->False\n",
    "False and True --> False\n",
    "False and False --> False\n",
    "\n",
    "2.or operator:\n",
    "True or True -->True\n",
    "True or Flase -->True\n",
    "False or True --> True\n",
    "False or False -->False\n",
    "\n",
    "3. not Operator\n",
    "not True-->False \n",
    "not False -->True"
   ]
  },
  {
   "cell_type": "markdown",
   "id": "c054cd1e",
   "metadata": {},
   "source": [
    "4. What are the values of the following expressions?\n",
    "(5 > 4) and (3 == 5)        #False\n",
    "not (5 > 4)                 #False\n",
    "(5 > 4) or (3 == 5)         #True\n",
    "not ((5 > 4) or (3 == 5))   #False\n",
    "(True and True) and (True == False)  #False\n",
    "(not False) or (not True)     #True"
   ]
  },
  {
   "cell_type": "markdown",
   "id": "a76d358d",
   "metadata": {},
   "source": [
    "5. What are the six comparison operators?\n",
    "==     Equal\n",
    "!=     Not equal\n",
    ">     Greater  than\n",
    "<     less than\n",
    ">=    Greater than equal to\n",
    "<=    less than equal to"
   ]
  },
  {
   "cell_type": "markdown",
   "id": "da439e48",
   "metadata": {},
   "source": [
    "6. How do you tell the difference between the equal to and assignment operators?Describe a\n",
    "condition and when you would use one.\n",
    "equal to operator(==) is used for to check whether two values are equal  or not.\n",
    "e.g: 3==3 result is True\n",
    "Assignment operator is used to assign the value to variable\n",
    "e.g. x=30\n",
    "    y=40\n",
    "    value 30 is assign to variable to x and value 40 is assign to variable to y."
   ]
  },
  {
   "cell_type": "markdown",
   "id": "3d640b8d",
   "metadata": {},
   "source": [
    "7. Identify the three blocks in this code:\n",
    "spam = 0\n",
    "if spam == 10:\n",
    "print('eggs')\n",
    "if spam > 5:\n",
    "print('bacon')\n",
    "else:\n",
    "print('ham')\n",
    "print('spam')\n",
    "print('spam')\n",
    "\n",
    "Output:\n",
    "ham\n",
    "spam\n",
    "spam"
   ]
  },
  {
   "cell_type": "markdown",
   "id": "26cb74e4",
   "metadata": {},
   "source": [
    "8. Write code that prints Hello if 1 is stored in spam, prints Howdy if 2 is stored in spam, and prints\n",
    "Greetings! if anything else is stored in spam.\n",
    "spam=eval(input())\n",
    "if spam==1:\n",
    "    print(\"Hello\")\n",
    "elif spam==2:\n",
    "    print(\"Howdy\")\n",
    "else:\n",
    "    print(\"Greetings!\")\n"
   ]
  },
  {
   "cell_type": "markdown",
   "id": "fcf044cf",
   "metadata": {},
   "source": [
    "9.If your programme is stuck in an endless loop, what keys you’ll press?\n",
    "Ans: ctrl+c"
   ]
  },
  {
   "cell_type": "markdown",
   "id": "8005793a",
   "metadata": {},
   "source": [
    "10. How can you tell the difference between break and continue?\n",
    "break:It is used for terminate the execution of loop\n",
    "continue:It is used to end the current iteration in a loop,and continues to the next iteration "
   ]
  },
  {
   "cell_type": "code",
   "execution_count": 8,
   "id": "96701e1e",
   "metadata": {},
   "outputs": [
    {
     "name": "stdout",
     "output_type": "stream",
     "text": [
      "0\n",
      "1\n",
      "2\n",
      "3\n",
      "4\n",
      "break\n",
      "0\n",
      "1\n",
      "2\n",
      "3\n",
      "4\n",
      "5\n",
      "6\n",
      "7\n",
      "8\n",
      "9\n"
     ]
    }
   ],
   "source": [
    "i=1\n",
    "for i in range (10):\n",
    "    print(i)\n",
    "    if i==4:\n",
    "        break\n",
    "print('break')\n",
    "for i in range (10):\n",
    "    print(i)\n",
    "    if i==4:\n",
    "        continue\n",
    "        \n",
    "        "
   ]
  },
  {
   "cell_type": "markdown",
   "id": "fb598054",
   "metadata": {},
   "source": [
    "11. In a for loop, what is the difference between range(10), range(0, 10), and range(0, 10, 1)?"
   ]
  },
  {
   "cell_type": "code",
   "execution_count": 11,
   "id": "b51ef203",
   "metadata": {},
   "outputs": [
    {
     "name": "stdout",
     "output_type": "stream",
     "text": [
      "range(10)\n",
      "0\n",
      "1\n",
      "2\n",
      "3\n",
      "4\n",
      "5\n",
      "6\n",
      "7\n",
      "8\n",
      "9\n",
      "range(0,10)\n",
      "0\n",
      "1\n",
      "2\n",
      "3\n",
      "4\n",
      "5\n",
      "6\n",
      "7\n",
      "8\n",
      "9\n",
      "range(0,10,1)\n",
      "0\n",
      "1\n",
      "2\n",
      "3\n",
      "4\n",
      "5\n",
      "6\n",
      "7\n",
      "8\n",
      "9\n"
     ]
    }
   ],
   "source": [
    "print('range(10)')\n",
    "for i in range(10):\n",
    "    print(i)\n",
    "print('range(0,10)')\n",
    "for i in range (0,10):\n",
    "    print(i)\n",
    "print('range(0,10,1)')\n",
    "for i in range(0,10,1):\n",
    "    print(i)\n",
    "   \n",
    "    "
   ]
  },
  {
   "cell_type": "markdown",
   "id": "5f381c1b",
   "metadata": {},
   "source": [
    "The output of all three for loop is same for range(10),range(0,10) and range(0,10,1) range(10) is execute value from 0,9, range(0,10) is also print value from 0,9 only difference is in syntax   (starting, ending)it print values from 0 to end-1\n",
    "rabge(0,10,1) it also gives same output as above only difference is syntax (starting, ending,Increment/Decrement)valu start from 0 and end with end-1 and increment by 1.\n"
   ]
  },
  {
   "cell_type": "markdown",
   "id": "66724438",
   "metadata": {},
   "source": [
    "12. Write a short program that prints the numbers 1 to 10 using a for loop. Then write an equivalent\n",
    "program that prints the numbers 1 to 10 using a while loop."
   ]
  },
  {
   "cell_type": "code",
   "execution_count": 15,
   "id": "42b66a33",
   "metadata": {},
   "outputs": [
    {
     "name": "stdout",
     "output_type": "stream",
     "text": [
      "Using for loop 1 to 10\n",
      "1\n",
      "2\n",
      "3\n",
      "4\n",
      "5\n",
      "6\n",
      "7\n",
      "8\n",
      "9\n",
      "10\n",
      "Using while loop 1-10\n",
      "1\n",
      "2\n",
      "3\n",
      "4\n",
      "5\n",
      "6\n",
      "7\n",
      "8\n",
      "9\n",
      "10\n"
     ]
    }
   ],
   "source": [
    "print('Using for loop 1 to 10')\n",
    "for i in range (1,11):\n",
    "    print(i)\n",
    "print('Using while loop 1-10')\n",
    "i=1\n",
    "while i<=10:\n",
    "    print(i)\n",
    "    i=i+1\n",
    "    \n",
    "\n",
    "         "
   ]
  },
  {
   "cell_type": "markdown",
   "id": "27503e58",
   "metadata": {},
   "source": [
    "13. If you had a function named bacon() inside a module named spam, how would you call it after\n",
    "importing spam?\n",
    "1.import spam\n",
    "spam.bacon()\n",
    "2. from spam import bacon\n",
    "we can directly use function  by name e.g. bacon()\n",
    "3. import spam as s\n",
    "using alias e.g. s.bacon"
   ]
  },
  {
   "cell_type": "code",
   "execution_count": null,
   "id": "905da053",
   "metadata": {},
   "outputs": [],
   "source": []
  }
 ],
 "metadata": {
  "kernelspec": {
   "display_name": "Python 3 (ipykernel)",
   "language": "python",
   "name": "python3"
  },
  "language_info": {
   "codemirror_mode": {
    "name": "ipython",
    "version": 3
   },
   "file_extension": ".py",
   "mimetype": "text/x-python",
   "name": "python",
   "nbconvert_exporter": "python",
   "pygments_lexer": "ipython3",
   "version": "3.9.12"
  }
 },
 "nbformat": 4,
 "nbformat_minor": 5
}
