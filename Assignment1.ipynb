{
 "cells": [
  {
   "cell_type": "code",
   "execution_count": null,
   "id": "157bf3da",
   "metadata": {},
   "outputs": [],
   "source": [
    "1. In the below elements which of them are values or an expression? eg:- values can be\n",
    "integer or string and expressions will be mathematical operators.\n",
    "*\n",
    "'hello'\n",
    "-87.8\n",
    "-\n",
    "/\n",
    "+\n",
    "6\n",
    "\n",
    "Answer:\n",
    "    Values:\n",
    "        'hello',-87.8,6\n",
    "    expression:\n",
    "        *,-,/,+"
   ]
  },
  {
   "cell_type": "code",
   "execution_count": null,
   "id": "af51416c",
   "metadata": {},
   "outputs": [],
   "source": [
    "2. What is the difference between string and variable?\n",
    "Answer:String:String is a data e.g. 'hello','welcome','good morning' we can store that data in variable\n",
    "        Variable:Variable is used to store the value. It can be integer,float,boolean,String \n",
    "            e.g. a=10 # a is a name of variable that stores a 10 value "
   ]
  },
  {
   "cell_type": "code",
   "execution_count": null,
   "id": "06f227dc",
   "metadata": {},
   "outputs": [],
   "source": [
    "3. Describe three different data types.\n",
    "1.int:We can use int data type to represent whole numbers(integral values)\n",
    "    e.g:a=10\n",
    "        type(a)   #int\n",
    "2.float:We can use float data type to represent floating point values(decimal values)\n",
    "    e.g:f=1.234\n",
    "        type(f)   #float\n",
    "3.str:str represents string data type.A string is a sequence of characters enclosed within single quotes or double quotes.\n",
    "    e.g:s='python'or s=\"python\""
   ]
  },
  {
   "cell_type": "code",
   "execution_count": null,
   "id": "50961b53",
   "metadata": {},
   "outputs": [],
   "source": [
    "4.What is an expression made up of? What do all expressions do?\n",
    "expression is a combination of operands and operators and it produce some result after execution of that expression"
   ]
  },
  {
   "cell_type": "code",
   "execution_count": null,
   "id": "46dc8fbe",
   "metadata": {},
   "outputs": [],
   "source": [
    "5.This assignment statements, like spam = 10. What is the difference between an\n",
    "expression and a statement?\n",
    "expression is a combination of operands and operators and it produce some result after execution of that expression.\n",
    "statement is a simple statement like command used to print information."
   ]
  },
  {
   "cell_type": "code",
   "execution_count": null,
   "id": "ccb21d1b",
   "metadata": {},
   "outputs": [],
   "source": [
    "6. After running the following code, what does the variable bacon contain?\n",
    "bacon = 22\n",
    "bacon + 1\n",
    "\n",
    "Answer:23"
   ]
  },
  {
   "cell_type": "code",
   "execution_count": null,
   "id": "253ea224",
   "metadata": {},
   "outputs": [],
   "source": [
    "7. What should the values of the following two terms be?\n",
    "'spam' + 'spamspam'=spamspamspam # +operator concatenate two string both operand should be string type only\n",
    "'spam' * 3         =spamspamspam # * operator repeate the string by given number in that one operand should be string and one must be int type."
   ]
  },
  {
   "cell_type": "code",
   "execution_count": null,
   "id": "30909996",
   "metadata": {},
   "outputs": [],
   "source": [
    "8.Why is eggs a valid variable name while 100 is invalid?\n",
    "Because we cannot start variable name using numbers."
   ]
  },
  {
   "cell_type": "code",
   "execution_count": null,
   "id": "45b8c716",
   "metadata": {},
   "outputs": [],
   "source": [
    "9. What three functions can be used to get the integer, floating-point number, or string\n",
    "version of a value?\n",
    "Answer: int(), float(),str()"
   ]
  },
  {
   "cell_type": "code",
   "execution_count": null,
   "id": "69665a51",
   "metadata": {},
   "outputs": [],
   "source": [
    "10. Why does this expression cause an error? How can you fix it?\n",
    "'I have eaten'  + 99 +'burritos'\n",
    "Answer:Because 99 is int value we can not concatenate string and int values for that we need to do typecasting \n",
    "    e.g:'I have eaten'+ str(99)+ 'burritos' or we can write\n",
    "        'I have eaten'+'99'+'burritos'"
   ]
  },
  {
   "cell_type": "code",
   "execution_count": null,
   "id": "fb2b5118",
   "metadata": {},
   "outputs": [],
   "source": []
  }
 ],
 "metadata": {
  "kernelspec": {
   "display_name": "Python 3 (ipykernel)",
   "language": "python",
   "name": "python3"
  },
  "language_info": {
   "codemirror_mode": {
    "name": "ipython",
    "version": 3
   },
   "file_extension": ".py",
   "mimetype": "text/x-python",
   "name": "python",
   "nbconvert_exporter": "python",
   "pygments_lexer": "ipython3",
   "version": "3.9.12"
  }
 },
 "nbformat": 4,
 "nbformat_minor": 5
}
